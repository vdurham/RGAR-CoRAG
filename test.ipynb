{
 "cells": [
  {
   "cell_type": "code",
   "execution_count": 2,
   "id": "48036087",
   "metadata": {},
   "outputs": [
    {
     "name": "stderr",
     "output_type": "stream",
     "text": [
      "/home/choi_durham/RGAR-CoRAG/.venv/lib/python3.10/site-packages/tqdm/auto.py:21: TqdmWarning: IProgress not found. Please update jupyter and ipywidgets. See https://ipywidgets.readthedocs.io/en/stable/user_install.html\n",
      "  from .autonotebook import tqdm as notebook_tqdm\n"
     ]
    }
   ],
   "source": [
    "import argparse\n",
    "import json\n",
    "import os\n",
    "import re\n",
    "import torch\n",
    "from src.RGAR import RGAR"
   ]
  },
  {
   "cell_type": "code",
   "execution_count": 3,
   "id": "e28f4551",
   "metadata": {},
   "outputs": [],
   "source": [
    "PYTHON_SCRIPT=\"pipeline.py\"\n",
    "DATASET_NAME=\"ehrnoteqa\"\n",
    "DATASET_DIR=\"EHRNoteQA\"\n",
    "OUTPUT_PATH=\"results/Llama-3.2-3B-MedCPT-Textbooks-MedQA-RGAR-EHRNoteQA.json\"\n",
    "DEVICE_NAME=\"cuda:0\"\n",
    "LOG_FILE=\"logs/try-MedQA-RGAR-EHRNoteQA.log\""
   ]
  },
  {
   "cell_type": "code",
   "execution_count": 4,
   "id": "15a0436f",
   "metadata": {},
   "outputs": [],
   "source": [
    "class QADataset:\n",
    "\n",
    "    def __init__(self, data, dir=\".\"):\n",
    "        self.data = data.lower().split(\"_\")[0]\n",
    "        benchmark = json.load(open(os.path.join(dir, \"ehrnoteqa.json\")))\n",
    "        if self.data not in benchmark:\n",
    "            raise KeyError(\"{:s} not supported\".format(data))\n",
    "        self.dataset = benchmark[self.data]\n",
    "        self.index = sorted(self.dataset.keys())\n",
    "\n",
    "    def __len__(self):\n",
    "        return len(self.dataset)\n",
    "    \n",
    "    def __getitem__(self, key):\n",
    "        if type(key) == int:\n",
    "            return self.dataset[self.index[key]]\n",
    "        elif type(key) == slice:\n",
    "            return [self.__getitem__(i) for i in range(self.__len__())[key]]\n",
    "        else:\n",
    "            raise KeyError(\"Key type not supported.\")\n",
    "\n",
    "def extract_answer(content):\n",
    "    \n",
    "    match = re.findall(r'(?:answer|Answer).*?([A-Z])', content)\n",
    "    if match:\n",
    "        return match[-1]\n",
    "    \n",
    "    match_last = re.search(r'([A-Z])(?=[^A-Z]*$)', content)\n",
    "    if match_last:\n",
    "        return match_last.group(1)\n",
    "    return None"
   ]
  },
  {
   "cell_type": "code",
   "execution_count": 5,
   "id": "c3626dab",
   "metadata": {},
   "outputs": [
    {
     "name": "stdout",
     "output_type": "stream",
     "text": [
      "No sentence-transformers model found with name ncbi/MedCPT-Query-Encoder. Creating a new one with CLS pooling.\n"
     ]
    },
    {
     "name": "stderr",
     "output_type": "stream",
     "text": [
      "Loading checkpoint shards: 100%|██████████| 2/2 [00:02<00:00,  1.13s/it]\n"
     ]
    }
   ],
   "source": [
    "dataset = QADataset(DATASET_NAME, dir=DATASET_DIR)\n",
    "\n",
    "rgar = RGAR(\n",
    "    llm_name=\"meta-llama/Llama-3.2-3B-Instruct\", \n",
    "    rag=True, \n",
    "    retriever_name=\"MedCPT\", \n",
    "    corpus_name=\"Textbooks\", \n",
    "    device=DEVICE_NAME,\n",
    "    cot=False,\n",
    "    me=2,\n",
    "    follow_up=False,\n",
    "    realme=False\n",
    ")"
   ]
  },
  {
   "cell_type": "code",
   "execution_count": 6,
   "id": "a04e535d",
   "metadata": {},
   "outputs": [],
   "source": [
    "if os.path.exists(OUTPUT_PATH):\n",
    "    with open(OUTPUT_PATH, \"r\", encoding=\"utf-8\") as f:\n",
    "        results = json.load(f)\n",
    "    print(f\"Loaded {len(results)} saved results.\")\n",
    "else:\n",
    "    results = []\n",
    "\n",
    "correct_count = sum(1 for r in results if r[\"is_correct\"])  \n",
    "start_idx = len(results) "
   ]
  },
  {
   "cell_type": "code",
   "execution_count": 7,
   "id": "4b58a67c",
   "metadata": {},
   "outputs": [
    {
     "name": "stdout",
     "output_type": "stream",
     "text": [
      "Generated Subquery: What were the patient's vital signs upon hospital discharge compared to admission, specifically focusing on changes in heart rate, blood pressure, respiratory rate, oxygen saturation, and any notable fluctuations during their recovery period?\n",
      "Generated Subanswer: No relevant information found.\n",
      "Generated Subquery: What is the typical progression of symptoms and improvement in patients who have undergone [insert surgical procedure/procedure] while maintaining stable vital signs, tolerating oral intake, ambulating, and voiding independently after an initial episode of [condition]?\n",
      "Generated Subanswer: Based on Document [19], No relevant information found.\n",
      "Generated Subquery: What are the common complications associated with prolonged bed rest in hospitalized patients who maintain normal vital signs but experience persistent gastrointestinal issues such as constipation, urinary retention, and decreased appetite following surgery?\n",
      "Generated Subanswer: Constipation, urinary retention, and decreased appetite.\n"
     ]
    },
    {
     "name": "stderr",
     "output_type": "stream",
     "text": [
      "You seem to be using the pipelines sequentially on GPU. In order to maximize efficiency please use a dataset\n"
     ]
    },
    {
     "name": "stdout",
     "output_type": "stream",
     "text": [
      "```json\n",
      "{\n",
      "    \"answer_choice\": \"A\"\n",
      "}\n",
      "```\n",
      "```json { \"answer_choice\": \"A\" } ```\n",
      "Question 1/3:\n",
      "  Correct Answer: A\n",
      "  Predicted Answer: A\n",
      "  Correct!\n",
      "Generated Subquery: What is the typical management approach for cardiac arrest following percutaneous coronary intervention (PCI) with stenting in patients who develop severe bradycardia?\n",
      "Generated Subanswer: Cardioversion, external pacing, and close monitoring.\n",
      "Generated Subquery: What is the recommended protocol for managing hemodynamic instability after PCI with stenting in patients experiencing refractory bradycardia post-myocardial infarction (STEMI)?\n",
      "Generated Subanswer: There is no mention of refractory bradycardia in the provided documents.\n",
      "Generated Subquery: What is the optimal timing and dosing strategy for administering atropine in cases of symptomatic bradycardia during cardiac catheterization procedures such as PCI with stenting?\n",
      "Generated Subanswer: Atropine is no longer considered effective for asystole or PEA, but can be used for bradyarrhythmias. External pacing devices are used to attempt to establish a regular rhythm when atropine fails, but chronotropic agents given intravenously are now recognized as an equally effective alternative.\n",
      "{\"answer_choice\": \"B\"}\n",
      "{\"answer_choice\": \"B\"}\n",
      "Question 2/3:\n",
      "  Correct Answer: B\n",
      "  Predicted Answer: B\n",
      "  Correct!\n",
      "Generated Subquery: What is the typical post-procedure monitoring schedule and potential complications associated with pipeline embolization of right paraclinoid ICA aneurysms?\n",
      "Generated Subanswer: There is no document providing specific information about pipeline embolization of right paraclinoid ICA aneurysms.\n",
      "Generated Subquery: What are the typical outcomes and long-term management strategies for patients who undergo successful pipeline embolization of right paraclinoid ICA aneurysms following initial clearance of symptoms and normalization of vital signs after procedure?\n",
      "Generated Subanswer: The specific details about the outcomes and long-term management strategies for pipeline embolization of right paraclinoid ICA aneurysms cannot be directly inferred from the given documents.\n",
      "Generated Subquery: What are the typical imaging findings and diagnostic criteria used to confirm the complete occlusion of a right paraclinoid internal carotid artery (ICA) aneurysm after pipeline embolization?\n",
      "Generated Subanswer: Typical imaging findings:\n",
      "\n",
      "* Contrast enhancement of the aneurysm sac\n",
      "* Thrombi within the aneurysm sac\n",
      "* Narrowing of the parent artery\n",
      "* Possible compression of surrounding vessels\n",
      "\n",
      "Diagnostic criteria:\n",
      " \n",
      "* Diameter reduction >50%\n",
      "* Peak systolic velocity ratio <2.0\n",
      "* End-diastolic velocity <100 cm/s\n",
      "* No residual flow through the aneurysm\n",
      "* Absence of plaque estimation >50%\n",
      "```\n",
      "{\n",
      "    \"answer_choice\": \"C\"\n",
      "}\n",
      "```\n",
      "``` { \"answer_choice\": \"C\" } ```\n",
      "Question 3/3:\n",
      "  Correct Answer: C\n",
      "  Predicted Answer: C\n",
      "  Correct!\n",
      "\n",
      "Accuracy: 100.00%\n",
      "Final results saved to results/Llama-3.2-3B-MedCPT-Textbooks-MedQA-RGAR-EHRNoteQA.json\n"
     ]
    }
   ],
   "source": [
    "for idx, data in enumerate(dataset[start_idx:], start=start_idx):\n",
    "    question = data[\"question\"]\n",
    "    options = data[\"options\"]\n",
    "    correct_answer = data[\"answer\"]\n",
    "\n",
    "    answer_json, *_ = rgar.answer(question=question, options=options, k=32)\n",
    "    # answer_json, snippets, scores = medrag.answer(question=question, options=options, k=args.top_k)\n",
    "    print(answer_json) \n",
    "\n",
    "    predicted_answer = extract_answer(answer_json)\n",
    "\n",
    "    if predicted_answer is None:\n",
    "        print(f\"Warning: Could not extract answer for Question {idx + 1}\")\n",
    "        predicted_answer = \"N/A\" \n",
    "\n",
    "    is_correct = predicted_answer == correct_answer\n",
    "    if is_correct:\n",
    "        correct_count += 1\n",
    "\n",
    "    print(f\"Question {idx + 1}/{len(dataset)}:\")\n",
    "    print(f\"  Correct Answer: {correct_answer}\")\n",
    "    print(f\"  Predicted Answer: {predicted_answer}\")\n",
    "    print(f\"  {'Correct!' if is_correct else 'Incorrect.'}\")\n",
    "\n",
    "    results.append({\n",
    "        \"question\": question,\n",
    "        \"correct_answer\": correct_answer,\n",
    "        \"predicted_answer\": predicted_answer,\n",
    "        \"raw_output\": answer_json, \n",
    "        \"is_correct\": is_correct\n",
    "    })\n",
    "\n",
    "    if (idx + 1) % 10 == 0:\n",
    "        with open(OUTPUT_PATH, \"w\", encoding=\"utf-8\") as f:\n",
    "            json.dump(results, f, indent=4, ensure_ascii=False)\n",
    "        print(f\"Progress saved at {idx + 1} questions.\")\n",
    "\n",
    "    torch.cuda.empty_cache()\n",
    "\n",
    "accuracy = correct_count / len(dataset)\n",
    "print(f\"\\nAccuracy: {accuracy * 100:.2f}%\")\n",
    "torch.cuda.empty_cache()\n",
    "with open(OUTPUT_PATH, \"w\", encoding=\"utf-8\") as f:\n",
    "    json.dump(results, f, indent=4, ensure_ascii=False)\n",
    "\n",
    "print(f\"Final results saved to {OUTPUT_PATH}\")"
   ]
  }
 ],
 "metadata": {
  "kernelspec": {
   "display_name": ".venv",
   "language": "python",
   "name": "python3"
  },
  "language_info": {
   "codemirror_mode": {
    "name": "ipython",
    "version": 3
   },
   "file_extension": ".py",
   "mimetype": "text/x-python",
   "name": "python",
   "nbconvert_exporter": "python",
   "pygments_lexer": "ipython3",
   "version": "3.10.17"
  }
 },
 "nbformat": 4,
 "nbformat_minor": 5
}
